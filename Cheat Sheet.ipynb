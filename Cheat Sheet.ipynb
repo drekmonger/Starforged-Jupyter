{
 "cells": [
  {
   "cell_type": "markdown",
   "metadata": {},
   "source": [
    "# Cheat Sheet\n",
    "for Starforged Jupyter\n",
    "\n",
    "## In the beginning...\n",
    "Include `starforged.py`. Then set a `random.seed()` for the notebook. The seed will allow the random elements (such as oracles and dice rolls) to be reproducible when the notebook is re-run.\n",
    "\n",
    "If you make a dice roll or oracle roll and then delete it, you should re-run the entire notebook right away, so that the random seed is in sync with subsequent sessions. Alternatively, you could use a separate notebook to make oracle rolls, so that you can delete them and re-run them without affecting the game."
   ]
  },
  {
   "cell_type": "code",
   "execution_count": 1,
   "metadata": {},
   "outputs": [
    {
     "data": {
      "text/html": [
       "<style>\n",
       "@import url('https://fonts.googleapis.com/css2?family=Open+Sans+Condensed:wght@300&family=Cuprum&family=Open+Sans:ital,wght@0,300;0,400;0,700;1,400&display=swap');\n",
       "\n",
       "<style>\n",
       ".flex-meter {\n",
       "  display: flex;\n",
       "  flex-wrap: nowrap;\n",
       "  align-items: center;\n",
       "}\n",
       "\n",
       ".flex-stat-container {\n",
       "  display: flex;\n",
       "  flex-wrap: nowrap;\n",
       "}\n",
       "\n",
       ".smalltext {\n",
       "    text-align:center;\n",
       "    font-family: \"Open Sans\", San-Serif;\n",
       "    font-size: .6em;\n",
       "    padding: 2px;\n",
       "    color: darkslategray;\n",
       "}\n",
       "\n",
       ".bignumber {\n",
       "    text-align:center;\n",
       "    font-family: \"Cuprum\", San-Serif;\n",
       "    font-size: 2.2em;\n",
       "    padding: 0px;\n",
       "    color: darkslategray;\n",
       "}\n",
       "\n",
       "\n",
       ".meter-number {\n",
       "    display: flex;\n",
       "    justify-content: center;\n",
       "    align-items: center;\n",
       "    border: 1px solid darkslategray;\n",
       "    width: 1.5em;\n",
       "    height: 2em;\n",
       "    margin: 0px;\n",
       "    border-radius: 0px;\n",
       "    font-family: \"Open Sans\", San-Serif;\n",
       "    font-weight: light;\n",
       "    font-size: 1em;\n",
       "    padding: 1px;\n",
       "    color: #D8DDE2;\n",
       "    border: 2px solid darkslategray;\n",
       "    background: white;\n",
       "}\n",
       "\n",
       ".flex-meter .meter-number:first-of-type {\n",
       "    border-radius: 25px 0px 0px 25px;\n",
       "}\n",
       "    \n",
       ".flex-meter .meter-number:last-of-type {\n",
       "    border-radius: 0px 25px 25px 0px;\n",
       "}\n",
       "\n",
       "\n",
       ".meter-number.set {\n",
       "    background: darkslategray;\n",
       "    color: white;\n",
       "    font-weight: bold;\n",
       "}\n",
       "\n",
       ".label {\n",
       "    font-family: \"Cuprum\", San-Serif;\n",
       "    font-size: 1.3em;\n",
       "    line-height: 1.2;\n",
       "    border-radius: 25px;\n",
       "    margin: 0px;\n",
       "}\n",
       "\n",
       "\n",
       "\n",
       ".normalize-font {\n",
       "    font-family: \"Open Sans\", San-Serif;\n",
       "    font-size: small;\n",
       "}\n",
       "\n",
       "\n",
       ".meter-container {\n",
       "    display: inline-flex;\n",
       "    \n",
       "    padding: 10px;\n",
       "}\n",
       "\n",
       "\n",
       "\n",
       ".stat {\n",
       "    text-align: center;\n",
       "    border: 3px solid darkslategray;\n",
       "    width: 3.5em;\n",
       "    margin: 8px;\n",
       "    border-radius: 10px;\n",
       "    box-shadow: 3px 3px 0px darkslategray;\n",
       "    font-family: \"Cuprum\", San-Serif;\n",
       "    line-height: 1;\n",
       "    padding: 3px;\n",
       "    background: white;\n",
       "}\n",
       "\n",
       ".spacer-impact{\n",
       "    margin-left: 5px;\n",
       "    text-align: center;\n",
       "}\n",
       "\n",
       "\n",
       ".flex-impact-container {\n",
       "    display: flex;\n",
       "    flex-direction: column;\n",
       "    width: 120px;\n",
       "    border: 1px solid lightgray;\n",
       "    padding: 5px;\n",
       "    border-radius: 10px;\n",
       "    background: white;\n",
       "}\n",
       "\n",
       ".impact {\n",
       "    margin: 4px;\n",
       "    padding: 0px;\n",
       "    color: grey;\n",
       "    font-family: \"Open Sans\", San-Serif;\n",
       "}\n",
       "\n",
       ".impact.set {\n",
       "    color: black;\n",
       "}\n",
       "\n",
       "\n",
       "\n",
       ".field {\n",
       "    display: flex;\n",
       "    margin-bottom: 10px;\n",
       "    font-size: .9em;\n",
       " }\n",
       "\n",
       ".fieldlabel {\n",
       "    font-weight: bold;\n",
       "    line-height: 1.3;\n",
       "}\n",
       "\n",
       ".ypesuff {\n",
       "    font-size: 1.5em;\n",
       "    background: ghostwhite;\n",
       "    width: 300px;\n",
       "    padding: 3px;\n",
       "    border-radius: 3px;\n",
       "    font-weight: normal;\n",
       "    border: 1px solid darkslategray;\n",
       "    margin: 0px;\n",
       "    box-shadow: 1px 1px 2px darkslategray;\n",
       "    min-height: 20px;\n",
       "}\n",
       "\n",
       ".sheet {\n",
       "    display: flex;\n",
       "    flex-direction: column;\n",
       "    justify-content: center;\n",
       "    align-items: center;\n",
       "    background: whitesmoke;\n",
       "    padding: 10px;\n",
       "    width: 650px;\n",
       "}\n",
       "\n",
       ".progress {\n",
       "    width: 30px;\n",
       "    height: 30px;\n",
       "    background-image: url(\"https://i.imgur.com/kBfTK5M.png\");\n",
       "    background-repeat: no-repeat;\n",
       "    background-size: cover;\n",
       "}\n",
       "\n",
       ".progress.onetick{\n",
       "    background-image: url(\"https://i.imgur.com/7gM4hVX.png\")\n",
       "}\n",
       "\n",
       ".progress.twoticks{\n",
       "    background-image: url(\"https://i.imgur.com/9uCC5aE.png\")\n",
       "}\n",
       "\n",
       ".progress.threeticks{\n",
       "    background-image: url(\"https://i.imgur.com/fgn6yNB.png\")\n",
       "}\n",
       "\n",
       ".progress.full{\n",
       "    background-image: url(\"https://i.imgur.com/HQJ4U0W.png\")\n",
       "}\n",
       "\n",
       ".menace{\n",
       "    width: 24px;\n",
       "    height: 5px;\n",
       "    margin: 1px;\n",
       "    background: white;\n",
       "    border: 2px solid darkslategray;\n",
       "    border-radius: 3px;\n",
       "} \n",
       "\n",
       ".menace.set{\n",
       "    background: darkslategray;\n",
       "}\n",
       "\n",
       ".round-number{\n",
       "    background: whitesmoke;\n",
       "    color: black;\n",
       "    border-radius: 5px;\n",
       "    margins: 0px;\n",
       "    min-width: 28px;\n",
       "    height: 10px;\n",
       "    text-align: center;\n",
       "    font-family: \"Open Sans\", San-Serif;\n",
       "    font-size: .7em;\n",
       "    display: inline-block;\n",
       "    padding: 4px;\n",
       "    line-height: 1.1;\n",
       "}\n",
       "\n",
       ".category {\n",
       "    font-family: \"Cuprum\", San-Serif;\n",
       "    font-size: 1.1em;\n",
       "    margin-top: 20px;\n",
       "    margin-bottom: 10px;\n",
       "    background: lightgrey;\n",
       "    color: white;\n",
       "    min-width: 100px;\n",
       "    padding: 2px;\n",
       "    border-radius: 4px;\n",
       "    display: inline-block;\n",
       "    text-align: center;\n",
       "    line-height: 1;\n",
       "}\n",
       "\n",
       ".catlist {\n",
       "}\n",
       "\n",
       ".catlist .category:first-of-type{\n",
       "    \n",
       "    margin-top: 1px;\n",
       "}\n",
       "\n",
       ".paintitblack {\n",
       "    background: darkslategrey;\n",
       "}\n",
       "\n",
       "\n",
       "\n",
       "\n",
       "\n",
       "\n",
       "</style>"
      ],
      "text/plain": [
       "<IPython.core.display.HTML object>"
      ]
     },
     "metadata": {},
     "output_type": "display_data"
    },
    {
     "name": "stdout",
     "output_type": "stream",
     "text": [
      "<class '__main__.Entry'>:name\n",
      "<class '__main__.Stat'>:wits\n",
      "<class '__main__.Momentum'>:momentum\n",
      "<class '__main__.Impact'>:bored\n",
      "<class '__main__.StatMeter'>:angst\n",
      "<class '__main__.ProgressMeter'>:this_shit\n"
     ]
    },
    {
     "data": {
      "text/markdown": [
       "*No such child binder found.*"
      ],
      "text/plain": [
       "<IPython.core.display.Markdown object>"
      ]
     },
     "metadata": {},
     "output_type": "display_data"
    }
   ],
   "source": [
    "%run starforged_rules.ipynb\n",
    "random.seed(\"Starforged Cheat Sheet\")"
   ]
  },
  {
   "cell_type": "markdown",
   "metadata": {},
   "source": [
    "## Truths\n",
    "\n",
    "Use `truth()` to randomly generate your setting's truths. Each time you use `truth()` a new truth will be generated, in the order they appear in Chapter 1. The idea is to then type out something specific about your setting's truths in Markdown below each truth."
   ]
  },
  {
   "cell_type": "markdown",
   "metadata": {},
   "source": [
    "## The Oracle\n",
    "\n",
    "`oracle.ask(question, percent-chance=.5, response1=\"yes\", response2=\"no\")`\n",
    "\n",
    "The various chances are available as variables:\n",
    "\n",
    "* `certain`\n",
    "* `likely` \n",
    "* `fifty_fifty`\n",
    "* `unlikely`\n",
    "* `small_chance`"
   ]
  },
  {
   "cell_type": "code",
   "execution_count": 2,
   "metadata": {},
   "outputs": [
    {
     "data": {
      "text/markdown": [
       "<span style='font-family: \"Cuprum\", sans-serif; font-size:1.25em; font-style:bold'>Coin flip?&ensp;⁃&ensp;heads</span>"
      ],
      "text/plain": [
       "<IPython.core.display.Markdown object>"
      ]
     },
     "metadata": {},
     "output_type": "display_data"
    },
    {
     "data": {
      "text/markdown": [
       "<div class='round-number'>oracle[1]</div>"
      ],
      "text/plain": [
       "<IPython.core.display.Markdown object>"
      ]
     },
     "metadata": {},
     "output_type": "display_data"
    }
   ],
   "source": [
    "oracle.ask(\"Coin flip?\", fifty_fifty, \"heads\", \"tails\")"
   ]
  },
  {
   "cell_type": "code",
   "execution_count": 3,
   "metadata": {},
   "outputs": [
    {
     "data": {
      "text/markdown": [
       "<span style='font-family: \"Cuprum\", sans-serif; font-size:1.25em; font-style:bold'>Will the robot overlords attack the planet?&ensp;⁃&ensp;Yes</span>"
      ],
      "text/plain": [
       "<IPython.core.display.Markdown object>"
      ]
     },
     "metadata": {},
     "output_type": "display_data"
    },
    {
     "data": {
      "text/markdown": [
       "<div class='round-number'>oracle[2]</div>"
      ],
      "text/plain": [
       "<IPython.core.display.Markdown object>"
      ]
     },
     "metadata": {},
     "output_type": "display_data"
    }
   ],
   "source": [
    "oracle.ask(\"Will the robot overlords attack the planet?\", likely)"
   ]
  },
  {
   "cell_type": "markdown",
   "metadata": {},
   "source": [
    "-----\n",
    "### Other Oracles\n",
    "\n",
    "* `oracle.inspire()` prints responses from action-theme and descriptor-focus oracles.\n",
    "* `oracle.launch_backstory()` the chapter 1 oracles for creating a new character, all together. They are also present individually, as `oracle.launch_`.\n",
    "\n",
    "### Move Tables\n",
    "* `oracle.pay_the_price()`\n",
    "* `oracle.make_a_discovery()`\n",
    "* `oracle.confront_chaos()`\n",
    "* `oracle.take_decisive_action()`\n",
    "* `oracle.endure_harm()`\n",
    "* `oracle.endure_stress()`\n",
    "* `oracle.withstand_damage()`\n",
    " "
   ]
  },
  {
   "cell_type": "markdown",
   "metadata": {},
   "source": [
    "## Player Characters\n",
    "\n",
    "By default, there is a player character already created under the variable `pc`.\n",
    "\n",
    "You can create additional characters by assigning them to variables. `pcname = Player_Character()`\n",
    "\n",
    "Display the character by typing their variable the last line of code block. The display for the character will update as the character does. You can use `New View for Notebook` by right-clicking the notebook's name, to keep the character in view. \n",
    "\n",
    "Set the various traits the character by assigning numbers to variables on the player character.\n",
    "\n",
    "You can also use `+=` or `-=` to change a variable by some delta. This is useful for traits like `health` and `momentum`.\n",
    "\n",
    "* `name`\n",
    "* `edge`\n",
    "* `heart`\n",
    "* `iron`\n",
    "* `shadow`\n",
    "* `wits`\n",
    "* `health`\n",
    "* `spirit`\n",
    "* `supply`\n",
    "* `momentum`\n",
    "\n",
    "You can also set Impacts, to `True` or `False`. When you do, momentum reset and momentum max will automatically update.\n",
    "* `wounded`\n",
    "* `shaken` \n",
    "* `unprepared`\n",
    "* `encumbered`\n",
    "* `permanently_harmed` \n",
    "* `traumatized`\n",
    "* `doomed`\n",
    "* `tormented`\n",
    "* `indebted`\n",
    "* `battered`\n",
    "* `cursed`\n",
    "* `misc_condition1` \n",
    "* `misc_condition2` \n",
    "* `misc_condition3`"
   ]
  },
  {
   "cell_type": "code",
   "execution_count": 4,
   "metadata": {},
   "outputs": [
    {
     "data": {
      "text/html": [
       "<div class = 'sheet'><div class='field'><div class='fieldlabel'>Name<div class='label ypesuff'>Mira</div></div></div><div class='flex-stat-container'><div class='stat'><div class='bignumber'>3</div>edge</div><div class='stat'><div class='bignumber'>2</div>heart</div><div class='stat'><div class='bignumber'>1</div>iron</div><div class='stat'><div class='bignumber'>1</div>shadow</div><div class='stat'><div class='bignumber'>1</div>wits</div></div><div><div class='meter-container'><div class= 'label'>Health</div><div class='flex-meter'><div class='meter-number'>0</div><div class='meter-number'>1</div><div class='meter-number'>2</div><div class='meter-number'>3</div><div class='meter-number'>4</div><div class='meter-number set'>5</div></div></div><div class='meter-container'><div class= 'label'>Spirit</div><div class='flex-meter'><div class='meter-number'>0</div><div class='meter-number'>1</div><div class='meter-number'>2</div><div class='meter-number'>3</div><div class='meter-number'>4</div><div class='meter-number set'>5</div></div></div><div class='meter-container'><div class= 'label'>Supply</div><div class='flex-meter'><div class='meter-number'>0</div><div class='meter-number'>1</div><div class='meter-number'>2</div><div class='meter-number'>3</div><div class='meter-number'>4</div><div class='meter-number set'>5</div></div></div></div><div></div><div class='meter-container'><div class= 'label'>Momentum<span class='smalltext'> Reset: 1</span></div><div class='flex-meter'><div class='meter-number'>-6</div><div class='meter-number'>-5</div><div class='meter-number'>-4</div><div class='meter-number'>-3</div><div class='meter-number'>-2</div><div class='meter-number'>-1</div><div class='meter-number'>0</div><div class='meter-number'>1</div><div class='meter-number'>2</div><div class='meter-number'>3</div><div class='meter-number set'>4</div><div class='meter-number'>5</div><div class='meter-number'>6</div><div class='meter-number'>7</div><div class='meter-number'>8</div><div class='meter-number'>9</div></div></div><div class='flex-stat-container'><div class='spacer-impact'><span class='label'>Conditions</span><div class = 'flex-impact-container'><div class='impact set'>✘ wounded</div><div class='impact'>○ shaken</div><div class='impact'>○ unprepared</div><div class='impact'>○ encumbered</div></div></div><div class='spacer-impact'><span class='label'>Lasting Effects</span><div class = 'flex-impact-container'><div class='impact'>○ scarred</div><div class='impact'>○ traumatized</div></div></div><div class='spacer-impact'><span class='label'>Burdens</span><div class = 'flex-impact-container'><div class='impact'>○ doomed</div><div class='impact'>○ tormented</div><div class='impact'>○ indebted</div></div></div><div class='spacer-impact'><span class='label'>Current Vehicle</span><div class = 'flex-impact-container'><div class='impact'>○ battered</div><div class='impact'>○ cursed</div></div></div></div></div>"
      ],
      "text/plain": [
       "<IPython.core.display.HTML object>"
      ]
     },
     "metadata": {},
     "output_type": "display_data"
    }
   ],
   "source": [
    "Mira = Player_Character()\n",
    "Mira"
   ]
  },
  {
   "cell_type": "code",
   "execution_count": 5,
   "metadata": {},
   "outputs": [
    {
     "data": {
      "text/markdown": [
       "*Edge changed to 3.*"
      ],
      "text/plain": [
       "<IPython.core.display.Markdown object>"
      ]
     },
     "metadata": {},
     "output_type": "display_data"
    },
    {
     "data": {
      "text/markdown": [
       "*Iron changed to 1.*"
      ],
      "text/plain": [
       "<IPython.core.display.Markdown object>"
      ]
     },
     "metadata": {},
     "output_type": "display_data"
    },
    {
     "data": {
      "text/markdown": [
       "*Shadow changed to 1.*"
      ],
      "text/plain": [
       "<IPython.core.display.Markdown object>"
      ]
     },
     "metadata": {},
     "output_type": "display_data"
    },
    {
     "data": {
      "text/markdown": [
       "*Wits changed to 1.*"
      ],
      "text/plain": [
       "<IPython.core.display.Markdown object>"
      ]
     },
     "metadata": {},
     "output_type": "display_data"
    }
   ],
   "source": [
    "Mira.name = \"Mira\"\n",
    "Mira.edge = 3\n",
    "Mira.heart = 2\n",
    "Mira.iron = 1\n",
    "Mira.shadow = 1\n",
    "Mira.wits = 1"
   ]
  },
  {
   "cell_type": "code",
   "execution_count": 6,
   "metadata": {},
   "outputs": [
    {
     "data": {
      "text/html": [
       "<div class='meter-container'><div class= 'label'>Health</div><div class='flex-meter'><div class='meter-number'>0</div><div class='meter-number'>1</div><div class='meter-number'>2</div><div class='meter-number'>3</div><div class='meter-number'>4</div><div class='meter-number set'>5</div></div></div>"
      ],
      "text/plain": [
       "<IPython.core.display.HTML object>"
      ]
     },
     "metadata": {},
     "output_type": "display_data"
    }
   ],
   "source": [
    "Mira.health += 1"
   ]
  },
  {
   "cell_type": "code",
   "execution_count": 7,
   "metadata": {},
   "outputs": [
    {
     "data": {
      "text/html": [
       "<div class='meter-container'><div class= 'label'>Momentum<span class='smalltext'> Reset: 2</span></div><div class='flex-meter'><div class='meter-number'>-6</div><div class='meter-number'>-5</div><div class='meter-number'>-4</div><div class='meter-number'>-3</div><div class='meter-number'>-2</div><div class='meter-number'>-1</div><div class='meter-number'>0</div><div class='meter-number'>1</div><div class='meter-number'>2</div><div class='meter-number'>3</div><div class='meter-number set'>4</div><div class='meter-number'>5</div><div class='meter-number'>6</div><div class='meter-number'>7</div><div class='meter-number'>8</div><div class='meter-number'>9</div><div class='meter-number'>10</div></div></div>"
      ],
      "text/plain": [
       "<IPython.core.display.HTML object>"
      ]
     },
     "metadata": {},
     "output_type": "display_data"
    }
   ],
   "source": [
    "Mira.momentum += 2\n",
    "Mira.wounded = True"
   ]
  },
  {
   "cell_type": "markdown",
   "metadata": {},
   "source": [
    "## Assets"
   ]
  },
  {
   "cell_type": "markdown",
   "metadata": {},
   "source": [
    "## Progress Tracker"
   ]
  },
  {
   "cell_type": "markdown",
   "metadata": {},
   "source": [
    "## Dice"
   ]
  },
  {
   "cell_type": "markdown",
   "metadata": {},
   "source": [
    "## Moves"
   ]
  },
  {
   "cell_type": "code",
   "execution_count": null,
   "metadata": {},
   "outputs": [],
   "source": []
  }
 ],
 "metadata": {
  "kernelspec": {
   "display_name": "Python 3",
   "language": "python",
   "name": "python3"
  },
  "language_info": {
   "codemirror_mode": {
    "name": "ipython",
    "version": 3
   },
   "file_extension": ".py",
   "mimetype": "text/x-python",
   "name": "python",
   "nbconvert_exporter": "python",
   "pygments_lexer": "ipython3",
   "version": "3.8.6"
  }
 },
 "nbformat": 4,
 "nbformat_minor": 4
}
