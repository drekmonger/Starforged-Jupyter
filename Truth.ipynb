{
 "cells": [
  {
   "cell_type": "code",
   "execution_count": 10,
   "metadata": {},
   "outputs": [],
   "source": [
    "from starforged_rules import *\n",
    "random.seed(\"Starforged Truths Campaign 1\")"
   ]
  },
  {
   "cell_type": "code",
   "execution_count": 13,
   "metadata": {},
   "outputs": [
    {
     "data": {
      "text/markdown": [
       "<div><div class='category paintitblack'>Cataclysm</div><div style='background-color: #eef5f5; color:black; width: 460px; padding: 10px;'><span style='font-family: \"Cuprum\", sans-serif; font-size:1.25em; font-style:bold'>Everything fell apart in an age of chaos.</span></div><div style='background-color: #eef5f5; color:black; width: 460px; padding: 10px;'>Uprisings flared like wildfire. Governments were toppled. Trade ceased. Old enemies waged new wars, and allies turned on one another. On the brink of total collapse, we assembled our fleets and traveled to the Forge. A new home. A fresh start. The crisis was sparked by:&ensp;<span style='font-style:italic'>The sudden loss of a key resource</span></div><div style='background-color: beige; color:black; width: 460px; padding: 10px;'><span style='font-style:italic'>Quest</span>&ensp;⁃&ensp;The threat that triggered the cataclysm rises anew here in the Forge. How does it manifest? How has it changed or adapted since the cataclysm? What will you do to stop it?</div></div>"
      ],
      "text/plain": [
       "<IPython.core.display.Markdown object>"
      ]
     },
     "metadata": {},
     "output_type": "display_data"
    },
    {
     "data": {
      "text/markdown": [
       "<div class='round-number'>oracle[1]</div>"
      ],
      "text/plain": [
       "<IPython.core.display.Markdown object>"
      ]
     },
     "metadata": {},
     "output_type": "display_data"
    }
   ],
   "source": [
    "truth()"
   ]
  },
  {
   "cell_type": "code",
   "execution_count": 14,
   "metadata": {},
   "outputs": [
    {
     "data": {
      "text/markdown": [
       "<div><div class='category paintitblack'>Exodus</div><div style='background-color: #eef5f5; color:black; width: 460px; padding: 10px;'><span style='font-family: \"Cuprum\", sans-serif; font-size:1.25em; font-style:bold'>Mysterious alien gates provided instantaneous one-way passage to the Forge.</span></div><div style='background-color: #eef5f5; color:black; width: 460px; padding: 10px;'>At our moment of greatest need, the titanic iron-gray gates materialized simultaneously in orbit around our homeworld and outposts. With no other option, our Exodus fleets entered the gates and crossed over into the Forge. The devices we emerged from on this side lie dormant; despite years of study, we've found no way to wake them.&ensp;</div><div style='background-color: beige; color:black; width: 460px; padding: 10px;'><span style='font-style:italic'>Quest</span>&ensp;⁃&ensp;An explorer brings news. They've located an active gate in the depths of the Forge. Why do you swear to travel there? Which power or foe seeks to take control of the gate?</div></div>"
      ],
      "text/plain": [
       "<IPython.core.display.Markdown object>"
      ]
     },
     "metadata": {},
     "output_type": "display_data"
    },
    {
     "data": {
      "text/markdown": [
       "<div class='round-number'>oracle[2]</div>"
      ],
      "text/plain": [
       "<IPython.core.display.Markdown object>"
      ]
     },
     "metadata": {},
     "output_type": "display_data"
    }
   ],
   "source": [
    "truth()"
   ]
  },
  {
   "cell_type": "code",
   "execution_count": 15,
   "metadata": {},
   "outputs": [
    {
     "data": {
      "text/markdown": [
       "<div><div class='category paintitblack'>Communities</div><div style='background-color: #eef5f5; color:black; width: 460px; padding: 10px;'><span style='font-family: \"Cuprum\", sans-serif; font-size:1.25em; font-style:bold'>We have made our mark in this galaxy, but the energy storms we call balefires threaten to undo that progress, leaving our communities isolated and vulnerable.</span></div><div style='background-color: #eef5f5; color:black; width: 460px; padding: 10px;'>Starships navigate along bustling trade routes between settlements. We've built burgeoning outposts on the fringes of known sectors, and bold spacers chart new paths into unexplored domains. But this hard-earned success is threatened by the chaotic balefires, intense energy anomalies which cut off trade routes and threaten entire planets.&ensp;</div><div style='background-color: beige; color:black; width: 460px; padding: 10px;'><span style='font-style:italic'>Quest</span>&ensp;⁃&ensp;A balefire expands toward a remote deep-space settlement. Can a rescue fleet be marshaled in time to transport the inhabitants of the station to safety? What foe stands in the way?</div></div>"
      ],
      "text/plain": [
       "<IPython.core.display.Markdown object>"
      ]
     },
     "metadata": {},
     "output_type": "display_data"
    },
    {
     "data": {
      "text/markdown": [
       "<div class='round-number'>oracle[3]</div>"
      ],
      "text/plain": [
       "<IPython.core.display.Markdown object>"
      ]
     },
     "metadata": {},
     "output_type": "display_data"
    }
   ],
   "source": [
    "truth()"
   ]
  },
  {
   "cell_type": "code",
   "execution_count": 21,
   "metadata": {},
   "outputs": [
    {
     "data": {
      "text/markdown": [
       "<span style='font-family: \"Cuprum\", sans-serif; font-size:1.5em;'>Truths</span>"
      ],
      "text/plain": [
       "<IPython.core.display.Markdown object>"
      ]
     },
     "metadata": {},
     "output_type": "display_data"
    },
    {
     "data": {
      "text/markdown": [
       "______"
      ],
      "text/plain": [
       "<IPython.core.display.Markdown object>"
      ]
     },
     "metadata": {},
     "output_type": "display_data"
    },
    {
     "data": {
      "text/markdown": [
       "<span style='font-family: \"Cuprum\", sans-serif; font-size:1.25em; font-style:bold'>0</span>"
      ],
      "text/plain": [
       "<IPython.core.display.Markdown object>"
      ]
     },
     "metadata": {},
     "output_type": "display_data"
    },
    {
     "data": {
      "text/markdown": [
       "<div><div class='category paintitblack'>Cataclysm</div><div style='background-color: #eef5f5; color:black; width: 460px; padding: 10px;'><span style='font-family: \"Cuprum\", sans-serif; font-size:1.25em; font-style:bold'>Everything fell apart in an age of chaos.</span></div><div style='background-color: #eef5f5; color:black; width: 460px; padding: 10px;'>Uprisings flared like wildfire. Governments were toppled. Trade ceased. Old enemies waged new wars, and allies turned on one another. On the brink of total collapse, we assembled our fleets and traveled to the Forge. A new home. A fresh start. The crisis was sparked by:&ensp;<span style='font-style:italic'>The sudden loss of a key resource</span></div><div style='background-color: beige; color:black; width: 460px; padding: 10px;'><span style='font-style:italic'>Quest</span>&ensp;⁃&ensp;The threat that triggered the cataclysm rises anew here in the Forge. How does it manifest? How has it changed or adapted since the cataclysm? What will you do to stop it?</div></div>"
      ],
      "text/plain": [
       "<IPython.core.display.Markdown object>"
      ]
     },
     "metadata": {},
     "output_type": "display_data"
    },
    {
     "data": {
      "text/markdown": [
       "______"
      ],
      "text/plain": [
       "<IPython.core.display.Markdown object>"
      ]
     },
     "metadata": {},
     "output_type": "display_data"
    },
    {
     "data": {
      "text/markdown": [
       "<span style='font-family: \"Cuprum\", sans-serif; font-size:1.25em; font-style:bold'>1</span>"
      ],
      "text/plain": [
       "<IPython.core.display.Markdown object>"
      ]
     },
     "metadata": {},
     "output_type": "display_data"
    },
    {
     "data": {
      "text/markdown": [
       "<div><div class='category paintitblack'>Exodus</div><div style='background-color: #eef5f5; color:black; width: 460px; padding: 10px;'><span style='font-family: \"Cuprum\", sans-serif; font-size:1.25em; font-style:bold'>Mysterious alien gates provided instantaneous one-way passage to the Forge.</span></div><div style='background-color: #eef5f5; color:black; width: 460px; padding: 10px;'>At our moment of greatest need, the titanic iron-gray gates materialized simultaneously in orbit around our homeworld and outposts. With no other option, our Exodus fleets entered the gates and crossed over into the Forge. The devices we emerged from on this side lie dormant; despite years of study, we've found no way to wake them.&ensp;</div><div style='background-color: beige; color:black; width: 460px; padding: 10px;'><span style='font-style:italic'>Quest</span>&ensp;⁃&ensp;An explorer brings news. They've located an active gate in the depths of the Forge. Why do you swear to travel there? Which power or foe seeks to take control of the gate?</div></div>"
      ],
      "text/plain": [
       "<IPython.core.display.Markdown object>"
      ]
     },
     "metadata": {},
     "output_type": "display_data"
    },
    {
     "data": {
      "text/markdown": [
       "______"
      ],
      "text/plain": [
       "<IPython.core.display.Markdown object>"
      ]
     },
     "metadata": {},
     "output_type": "display_data"
    },
    {
     "data": {
      "text/markdown": [
       "<span style='font-family: \"Cuprum\", sans-serif; font-size:1.25em; font-style:bold'>2</span>"
      ],
      "text/plain": [
       "<IPython.core.display.Markdown object>"
      ]
     },
     "metadata": {},
     "output_type": "display_data"
    },
    {
     "data": {
      "text/markdown": [
       "<div><div class='category paintitblack'>Communities</div><div style='background-color: #eef5f5; color:black; width: 460px; padding: 10px;'><span style='font-family: \"Cuprum\", sans-serif; font-size:1.25em; font-style:bold'>We have made our mark in this galaxy, but the energy storms we call balefires threaten to undo that progress, leaving our communities isolated and vulnerable.</span></div><div style='background-color: #eef5f5; color:black; width: 460px; padding: 10px;'>Starships navigate along bustling trade routes between settlements. We've built burgeoning outposts on the fringes of known sectors, and bold spacers chart new paths into unexplored domains. But this hard-earned success is threatened by the chaotic balefires, intense energy anomalies which cut off trade routes and threaten entire planets.&ensp;</div><div style='background-color: beige; color:black; width: 460px; padding: 10px;'><span style='font-style:italic'>Quest</span>&ensp;⁃&ensp;A balefire expands toward a remote deep-space settlement. Can a rescue fleet be marshaled in time to transport the inhabitants of the station to safety? What foe stands in the way?</div></div>"
      ],
      "text/plain": [
       "<IPython.core.display.Markdown object>"
      ]
     },
     "metadata": {},
     "output_type": "display_data"
    }
   ],
   "source": [
    "binder.truths"
   ]
  },
  {
   "cell_type": "code",
   "execution_count": null,
   "metadata": {},
   "outputs": [],
   "source": []
  }
 ],
 "metadata": {
  "kernelspec": {
   "display_name": "Python 3",
   "language": "python",
   "name": "python3"
  },
  "language_info": {
   "codemirror_mode": {
    "name": "ipython",
    "version": 3
   },
   "file_extension": ".py",
   "mimetype": "text/x-python",
   "name": "python",
   "nbconvert_exporter": "python",
   "pygments_lexer": "ipython3",
   "version": "3.8.6"
  }
 },
 "nbformat": 4,
 "nbformat_minor": 4
}
